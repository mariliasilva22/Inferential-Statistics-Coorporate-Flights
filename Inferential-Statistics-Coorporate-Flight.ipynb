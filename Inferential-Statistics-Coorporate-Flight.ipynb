{
 "cells": [
  {
   "cell_type": "markdown",
   "id": "a7eedf1b",
   "metadata": {},
   "source": [
    "<img src=\"https://www.virtualeducationexpo.ie/wp-content/uploads/2020/08/CCT_Logo_New_Aug_17.jpg\" width=\"400\">\n",
    "\n",
    "# <center> *CA 2 Stats*<center>\n",
    "\n",
    "       \n",
    "## <center>Student: Marilia Meneses da Silva <center>\n",
    "### <center>*Corporate Flights*<center>\n",
    "    \n",
    "<img src = \"https://media.product.which.co.uk/prod/images/original/gm-b431db58-9b9f-4e85-a330-e62acb01423c-main-3-18.jpeg\" width=\"300\">\n",
    "    \n",
    " "
   ]
  },
  {
   "attachments": {
    "image-4.png": {
     "image/png": "[encoded data removed]"
    }
   },
   "cell_type": "markdown",
   "id": "494d20d4",
   "metadata": {},
   "source": [
    "## Introduction\n",
    "I pick a data set about corporate travels. As my background is in accounting, it would be interesting to analyse the expenses of corporate flights.\n",
    "\n",
    "The dataset analysed in this report simulate real corporate travel systems focusing on flights and hotels. It was provided by Argo Solutions available on Kaggle website and contains 271888 observations and 10 variables whereas amongst them there are 6 qualitative variables and 3 quantitative variables and one date.\n",
    "\n",
    "Data dictionary:\n",
    "![image-4.png](attachment:image-4.png)\n",
    "\n"
   ]
  },
  {
   "cell_type": "markdown",
   "id": "24fa9e6a",
   "metadata": {},
   "source": [
    "### Importing Libraries"
   ]
  },
  {
   "cell_type": "code",
   "execution_count": 1,
   "id": "74baf447",
   "metadata": {},
   "outputs": [],
   "source": [
    "#importing libraries\n",
    "import pandas as pd\n",
    "import numpy as np\n",
    "import seaborn as sns\n",
    "import matplotlib.pyplot as plt\n",
    "from scipy import stats\n",
    "import scipy.stats as stats\n",
    "import math\n",
    "import datetime\n",
    "from numpy.random import randn\n",
    "\n",
    "from sklearn.model_selection import train_test_split\n",
    "\n",
    "#Modelling\n",
    "from sklearn.linear_model import LinearRegression\n",
    "from sklearn.linear_model import LogisticRegression\n",
    "\n",
    "# Measurement libraries\n",
    "from sklearn.model_selection import cross_val_score\n",
    "from sklearn.metrics import r2_score \n",
    "from sklearn.metrics import classification_report, confusion_matrix\n",
    "from sklearn.model_selection import learning_curve \n",
    "from sklearn.metrics import classification_report, confusion_matrix\n",
    "from sklearn import metrics\n",
    "from sklearn.model_selection import GridSearchCV\n",
    "\n",
    "#encoding\n",
    "from sklearn.preprocessing import LabelEncoder\n",
    "from sklearn.preprocessing import OrdinalEncoder\n",
    "\n",
    "#warnings\n",
    "import warnings\n",
    "warnings.filterwarnings(action='ignore')"
   ]
  },
  {
   "cell_type": "code",
   "execution_count": 2,
   "id": "76de2dc8",
   "metadata": {
    "scrolled": false
   },
   "outputs": [
    {
     "data": {
      "text/html": [
       "<div>\n",
       "<style scoped>\n",
       "    .dataframe tbody tr th:only-of-type {\n",
       "        vertical-align: middle;\n",
       "    }\n",
       "\n",
       "    .dataframe tbody tr th {\n",
       "        vertical-align: top;\n",
       "    }\n",
       "\n",
       "    .dataframe thead th {\n",
       "        text-align: right;\n",
       "    }\n",
       "</style>\n",
       "<table border=\"1\" class=\"dataframe\">\n",
       "  <thead>\n",
       "    <tr style=\"text-align: right;\">\n",
       "      <th></th>\n",
       "      <th>travelCode</th>\n",
       "      <th>userCode</th>\n",
       "      <th>from</th>\n",
       "      <th>to</th>\n",
       "      <th>flightType</th>\n",
       "      <th>price</th>\n",
       "      <th>time</th>\n",
       "      <th>distance</th>\n",
       "      <th>agency</th>\n",
       "      <th>date</th>\n",
       "    </tr>\n",
       "  </thead>\n",
       "  <tbody>\n",
       "    <tr>\n",
       "      <th>0</th>\n",
       "      <td>0</td>\n",
       "      <td>0</td>\n",
       "      <td>Recife (PE)</td>\n",
       "      <td>Florianopolis (SC)</td>\n",
       "      <td>firstClass</td>\n",
       "      <td>1434.38</td>\n",
       "      <td>1.76</td>\n",
       "      <td>676.53</td>\n",
       "      <td>FlyingDrops</td>\n",
       "      <td>09/26/2019</td>\n",
       "    </tr>\n",
       "    <tr>\n",
       "      <th>1</th>\n",
       "      <td>0</td>\n",
       "      <td>0</td>\n",
       "      <td>Florianopolis (SC)</td>\n",
       "      <td>Recife (PE)</td>\n",
       "      <td>firstClass</td>\n",
       "      <td>1292.29</td>\n",
       "      <td>1.76</td>\n",
       "      <td>676.53</td>\n",
       "      <td>FlyingDrops</td>\n",
       "      <td>09/30/2019</td>\n",
       "    </tr>\n",
       "    <tr>\n",
       "      <th>2</th>\n",
       "      <td>1</td>\n",
       "      <td>0</td>\n",
       "      <td>Brasilia (DF)</td>\n",
       "      <td>Florianopolis (SC)</td>\n",
       "      <td>firstClass</td>\n",
       "      <td>1487.52</td>\n",
       "      <td>1.66</td>\n",
       "      <td>637.56</td>\n",
       "      <td>CloudFy</td>\n",
       "      <td>10/03/2019</td>\n",
       "    </tr>\n",
       "    <tr>\n",
       "      <th>3</th>\n",
       "      <td>1</td>\n",
       "      <td>0</td>\n",
       "      <td>Florianopolis (SC)</td>\n",
       "      <td>Brasilia (DF)</td>\n",
       "      <td>firstClass</td>\n",
       "      <td>1127.36</td>\n",
       "      <td>1.66</td>\n",
       "      <td>637.56</td>\n",
       "      <td>CloudFy</td>\n",
       "      <td>10/04/2019</td>\n",
       "    </tr>\n",
       "    <tr>\n",
       "      <th>4</th>\n",
       "      <td>2</td>\n",
       "      <td>0</td>\n",
       "      <td>Aracaju (SE)</td>\n",
       "      <td>Salvador (BH)</td>\n",
       "      <td>firstClass</td>\n",
       "      <td>1684.05</td>\n",
       "      <td>2.16</td>\n",
       "      <td>830.86</td>\n",
       "      <td>CloudFy</td>\n",
       "      <td>10/10/2019</td>\n",
       "    </tr>\n",
       "    <tr>\n",
       "      <th>...</th>\n",
       "      <td>...</td>\n",
       "      <td>...</td>\n",
       "      <td>...</td>\n",
       "      <td>...</td>\n",
       "      <td>...</td>\n",
       "      <td>...</td>\n",
       "      <td>...</td>\n",
       "      <td>...</td>\n",
       "      <td>...</td>\n",
       "      <td>...</td>\n",
       "    </tr>\n",
       "    <tr>\n",
       "      <th>271883</th>\n",
       "      <td>135941</td>\n",
       "      <td>1339</td>\n",
       "      <td>Campo Grande (MS)</td>\n",
       "      <td>Florianopolis (SC)</td>\n",
       "      <td>firstClass</td>\n",
       "      <td>1446.34</td>\n",
       "      <td>1.49</td>\n",
       "      <td>573.81</td>\n",
       "      <td>CloudFy</td>\n",
       "      <td>07/12/2020</td>\n",
       "    </tr>\n",
       "    <tr>\n",
       "      <th>271884</th>\n",
       "      <td>135942</td>\n",
       "      <td>1339</td>\n",
       "      <td>Florianopolis (SC)</td>\n",
       "      <td>Natal (RN)</td>\n",
       "      <td>economic</td>\n",
       "      <td>726.95</td>\n",
       "      <td>1.84</td>\n",
       "      <td>709.37</td>\n",
       "      <td>CloudFy</td>\n",
       "      <td>07/16/2020</td>\n",
       "    </tr>\n",
       "    <tr>\n",
       "      <th>271885</th>\n",
       "      <td>135942</td>\n",
       "      <td>1339</td>\n",
       "      <td>Natal (RN)</td>\n",
       "      <td>Florianopolis (SC)</td>\n",
       "      <td>economic</td>\n",
       "      <td>873.07</td>\n",
       "      <td>1.84</td>\n",
       "      <td>709.37</td>\n",
       "      <td>CloudFy</td>\n",
       "      <td>07/20/2020</td>\n",
       "    </tr>\n",
       "    <tr>\n",
       "      <th>271886</th>\n",
       "      <td>135943</td>\n",
       "      <td>1339</td>\n",
       "      <td>Florianopolis (SC)</td>\n",
       "      <td>Rio de Janeiro (RJ)</td>\n",
       "      <td>economic</td>\n",
       "      <td>313.62</td>\n",
       "      <td>1.21</td>\n",
       "      <td>466.30</td>\n",
       "      <td>CloudFy</td>\n",
       "      <td>07/23/2020</td>\n",
       "    </tr>\n",
       "    <tr>\n",
       "      <th>271887</th>\n",
       "      <td>135943</td>\n",
       "      <td>1339</td>\n",
       "      <td>Rio de Janeiro (RJ)</td>\n",
       "      <td>Florianopolis (SC)</td>\n",
       "      <td>economic</td>\n",
       "      <td>533.69</td>\n",
       "      <td>1.21</td>\n",
       "      <td>466.30</td>\n",
       "      <td>CloudFy</td>\n",
       "      <td>07/26/2020</td>\n",
       "    </tr>\n",
       "  </tbody>\n",
       "</table>\n",
       "<p>271888 rows × 10 columns</p>\n",
       "</div>"
      ],
      "text/plain": [
       "        travelCode  userCode                 from                   to  \\\n",
       "0                0         0          Recife (PE)   Florianopolis (SC)   \n",
       "1                0         0   Florianopolis (SC)          Recife (PE)   \n",
       "2                1         0        Brasilia (DF)   Florianopolis (SC)   \n",
       "3                1         0   Florianopolis (SC)        Brasilia (DF)   \n",
       "4                2         0         Aracaju (SE)        Salvador (BH)   \n",
       "...            ...       ...                  ...                  ...   \n",
       "271883      135941      1339    Campo Grande (MS)   Florianopolis (SC)   \n",
       "271884      135942      1339   Florianopolis (SC)           Natal (RN)   \n",
       "271885      135942      1339           Natal (RN)   Florianopolis (SC)   \n",
       "271886      135943      1339   Florianopolis (SC)  Rio de Janeiro (RJ)   \n",
       "271887      135943      1339  Rio de Janeiro (RJ)   Florianopolis (SC)   \n",
       "\n",
       "        flightType    price  time  distance       agency        date  \n",
       "0       firstClass  1434.38  1.76    676.53  FlyingDrops  09/26/2019  \n",
       "1       firstClass  1292.29  1.76    676.53  FlyingDrops  09/30/2019  \n",
       "2       firstClass  1487.52  1.66    637.56      CloudFy  10/03/2019  \n",
       "3       firstClass  1127.36  1.66    637.56      CloudFy  10/04/2019  \n",
       "4       firstClass  1684.05  2.16    830.86      CloudFy  10/10/2019  \n",
       "...            ...      ...   ...       ...          ...         ...  \n",
       "271883  firstClass  1446.34  1.49    573.81      CloudFy  07/12/2020  \n",
       "271884    economic   726.95  1.84    709.37      CloudFy  07/16/2020  \n",
       "271885    economic   873.07  1.84    709.37      CloudFy  07/20/2020  \n",
       "271886    economic   313.62  1.21    466.30      CloudFy  07/23/2020  \n",
       "271887    economic   533.69  1.21    466.30      CloudFy  07/26/2020  \n",
       "\n",
       "[271888 rows x 10 columns]"
      ]
     },
     "execution_count": 2,
     "metadata": {},
     "output_type": "execute_result"
    }
   ],
   "source": [
    "#reading the data\n",
    "df = pd.read_csv(\"flights.csv\")\n",
    "df"
   ]
  },
  {
   "cell_type": "markdown",
   "id": "89ff7da0",
   "metadata": {},
   "source": [
    "### Getting relevant information"
   ]
  },
  {
   "cell_type": "code",
   "execution_count": 3,
   "id": "79b7ae49",
   "metadata": {},
   "outputs": [
    {
     "name": "stdout",
     "output_type": "stream",
     "text": [
      "<class 'pandas.core.frame.DataFrame'>\n",
      "RangeIndex: 271888 entries, 0 to 271887\n",
      "Data columns (total 10 columns):\n",
      " #   Column      Non-Null Count   Dtype  \n",
      "---  ------      --------------   -----  \n",
      " 0   travelCode  271888 non-null  int64  \n",
      " 1   userCode    271888 non-null  int64  \n",
      " 2   from        271888 non-null  object \n",
      " 3   to          271888 non-null  object \n",
      " 4   flightType  271888 non-null  object \n",
      " 5   price       271888 non-null  float64\n",
      " 6   time        271888 non-null  float64\n",
      " 7   distance    271888 non-null  float64\n",
      " 8   agency      271888 non-null  object \n",
      " 9   date        271888 non-null  object \n",
      "dtypes: float64(3), int64(2), object(5)\n",
      "memory usage: 20.7+ MB\n"
     ]
    }
   ],
   "source": [
    "df.info()"
   ]
  },
  {
   "cell_type": "code",
   "execution_count": 4,
   "id": "eee563ce",
   "metadata": {},
   "outputs": [
    {
     "data": {
      "text/plain": [
       "(271888, 10)"
      ]
     },
     "execution_count": 4,
     "metadata": {},
     "output_type": "execute_result"
    }
   ],
   "source": [
    "#how many variables and observations are in the data\n",
    "df.shape"
   ]
  },
  {
   "cell_type": "code",
   "execution_count": 5,
   "id": "f9b8f59f",
   "metadata": {},
   "outputs": [
    {
     "data": {
      "text/html": [
       "<div>\n",
       "<style scoped>\n",
       "    .dataframe tbody tr th:only-of-type {\n",
       "        vertical-align: middle;\n",
       "    }\n",
       "\n",
       "    .dataframe tbody tr th {\n",
       "        vertical-align: top;\n",
       "    }\n",
       "\n",
       "    .dataframe thead th {\n",
       "        text-align: right;\n",
       "    }\n",
       "</style>\n",
       "<table border=\"1\" class=\"dataframe\">\n",
       "  <thead>\n",
       "    <tr style=\"text-align: right;\">\n",
       "      <th></th>\n",
       "      <th>from</th>\n",
       "      <th>to</th>\n",
       "      <th>flightType</th>\n",
       "      <th>price</th>\n",
       "      <th>time</th>\n",
       "      <th>distance</th>\n",
       "      <th>agency</th>\n",
       "      <th>date</th>\n",
       "    </tr>\n",
       "  </thead>\n",
       "  <tbody>\n",
       "    <tr>\n",
       "      <th>0</th>\n",
       "      <td>Recife (PE)</td>\n",
       "      <td>Florianopolis (SC)</td>\n",
       "      <td>firstClass</td>\n",
       "      <td>1434.38</td>\n",
       "      <td>1.76</td>\n",
       "      <td>676.53</td>\n",
       "      <td>FlyingDrops</td>\n",
       "      <td>09/26/2019</td>\n",
       "    </tr>\n",
       "    <tr>\n",
       "      <th>1</th>\n",
       "      <td>Florianopolis (SC)</td>\n",
       "      <td>Recife (PE)</td>\n",
       "      <td>firstClass</td>\n",
       "      <td>1292.29</td>\n",
       "      <td>1.76</td>\n",
       "      <td>676.53</td>\n",
       "      <td>FlyingDrops</td>\n",
       "      <td>09/30/2019</td>\n",
       "    </tr>\n",
       "    <tr>\n",
       "      <th>2</th>\n",
       "      <td>Brasilia (DF)</td>\n",
       "      <td>Florianopolis (SC)</td>\n",
       "      <td>firstClass</td>\n",
       "      <td>1487.52</td>\n",
       "      <td>1.66</td>\n",
       "      <td>637.56</td>\n",
       "      <td>CloudFy</td>\n",
       "      <td>10/03/2019</td>\n",
       "    </tr>\n",
       "    <tr>\n",
       "      <th>3</th>\n",
       "      <td>Florianopolis (SC)</td>\n",
       "      <td>Brasilia (DF)</td>\n",
       "      <td>firstClass</td>\n",
       "      <td>1127.36</td>\n",
       "      <td>1.66</td>\n",
       "      <td>637.56</td>\n",
       "      <td>CloudFy</td>\n",
       "      <td>10/04/2019</td>\n",
       "    </tr>\n",
       "    <tr>\n",
       "      <th>4</th>\n",
       "      <td>Aracaju (SE)</td>\n",
       "      <td>Salvador (BH)</td>\n",
       "      <td>firstClass</td>\n",
       "      <td>1684.05</td>\n",
       "      <td>2.16</td>\n",
       "      <td>830.86</td>\n",
       "      <td>CloudFy</td>\n",
       "      <td>10/10/2019</td>\n",
       "    </tr>\n",
       "  </tbody>\n",
       "</table>\n",
       "</div>"
      ],
      "text/plain": [
       "                 from                  to  flightType    price  time  \\\n",
       "0         Recife (PE)  Florianopolis (SC)  firstClass  1434.38  1.76   \n",
       "1  Florianopolis (SC)         Recife (PE)  firstClass  1292.29  1.76   \n",
       "2       Brasilia (DF)  Florianopolis (SC)  firstClass  1487.52  1.66   \n",
       "3  Florianopolis (SC)       Brasilia (DF)  firstClass  1127.36  1.66   \n",
       "4        Aracaju (SE)       Salvador (BH)  firstClass  1684.05  2.16   \n",
       "\n",
       "   distance       agency        date  \n",
       "0    676.53  FlyingDrops  09/26/2019  \n",
       "1    676.53  FlyingDrops  09/30/2019  \n",
       "2    637.56      CloudFy  10/03/2019  \n",
       "3    637.56      CloudFy  10/04/2019  \n",
       "4    830.86      CloudFy  10/10/2019  "
      ]
     },
     "execution_count": 5,
     "metadata": {},
     "output_type": "execute_result"
    }
   ],
   "source": [
    "#dropping some irrelevant data\n",
    "df = df.drop(columns=['travelCode', 'userCode'])\n",
    "df.head()"
   ]
  },
  {
   "cell_type": "code",
   "execution_count": 6,
   "id": "8bb8df16",
   "metadata": {},
   "outputs": [
    {
     "data": {
      "text/plain": [
       "Florianopolis (SC)     57317\n",
       "Aracaju (SE)           37224\n",
       "Campo Grande (MS)      34748\n",
       "Brasilia (DF)          30779\n",
       "Recife (PE)            30480\n",
       "Natal (RN)             23796\n",
       "Sao Paulo (SP)         23625\n",
       "Salvador (BH)          17104\n",
       "Rio de Janeiro (RJ)    16815\n",
       "Name: from, dtype: int64"
      ]
     },
     "execution_count": 6,
     "metadata": {},
     "output_type": "execute_result"
    }
   ],
   "source": [
    "df['from'].value_counts()"
   ]
  },
  {
   "cell_type": "code",
   "execution_count": 7,
   "id": "8968c8d7",
   "metadata": {},
   "outputs": [
    {
     "data": {
      "text/plain": [
       "9"
      ]
     },
     "execution_count": 7,
     "metadata": {},
     "output_type": "execute_result"
    }
   ],
   "source": [
    "df['from'].nunique()"
   ]
  },
  {
   "cell_type": "code",
   "execution_count": 8,
   "id": "e2c88660",
   "metadata": {},
   "outputs": [
    {
     "data": {
      "text/plain": [
       "9"
      ]
     },
     "execution_count": 8,
     "metadata": {},
     "output_type": "execute_result"
    }
   ],
   "source": [
    "df['to'].nunique()"
   ]
  },
  {
   "cell_type": "code",
   "execution_count": 9,
   "id": "03e22641",
   "metadata": {},
   "outputs": [
    {
     "data": {
      "text/plain": [
       "Florianopolis (SC)     57317\n",
       "Aracaju (SE)           37224\n",
       "Campo Grande (MS)      34748\n",
       "Brasilia (DF)          30779\n",
       "Recife (PE)            30480\n",
       "Natal (RN)             23796\n",
       "Sao Paulo (SP)         23625\n",
       "Salvador (BH)          17104\n",
       "Rio de Janeiro (RJ)    16815\n",
       "Name: to, dtype: int64"
      ]
     },
     "execution_count": 9,
     "metadata": {},
     "output_type": "execute_result"
    }
   ],
   "source": [
    "df['to'].value_counts()"
   ]
  },
  {
   "cell_type": "markdown",
   "id": "78120510",
   "metadata": {},
   "source": [
    "### Encoding"
   ]
  },
  {
   "cell_type": "markdown",
   "id": "b6c6da18",
   "metadata": {},
   "source": [
    "Enconding variables *'From'* and *'To'* using label encoder to avoid sparse data: "
   ]
  },
  {
   "cell_type": "code",
   "execution_count": 10,
   "id": "a8adb23c",
   "metadata": {},
   "outputs": [
    {
     "data": {
      "text/plain": [
       "array([3, 5, 3, ..., 3, 6, 3])"
      ]
     },
     "execution_count": 10,
     "metadata": {},
     "output_type": "execute_result"
    }
   ],
   "source": [
    "\n",
    "le = LabelEncoder()\n",
    "le.fit_transform(df['from'])\n",
    "le.fit_transform(df['to'])"
   ]
  },
  {
   "cell_type": "code",
   "execution_count": 11,
   "id": "6f6ccb22",
   "metadata": {},
   "outputs": [],
   "source": [
    "df['From_Encoded'] = le.transform(df['from'])"
   ]
  },
  {
   "cell_type": "code",
   "execution_count": 12,
   "id": "d410a796",
   "metadata": {},
   "outputs": [
    {
     "data": {
      "text/html": [
       "<div>\n",
       "<style scoped>\n",
       "    .dataframe tbody tr th:only-of-type {\n",
       "        vertical-align: middle;\n",
       "    }\n",
       "\n",
       "    .dataframe tbody tr th {\n",
       "        vertical-align: top;\n",
       "    }\n",
       "\n",
       "    .dataframe thead th {\n",
       "        text-align: right;\n",
       "    }\n",
       "</style>\n",
       "<table border=\"1\" class=\"dataframe\">\n",
       "  <thead>\n",
       "    <tr style=\"text-align: right;\">\n",
       "      <th></th>\n",
       "      <th>from</th>\n",
       "      <th>to</th>\n",
       "      <th>flightType</th>\n",
       "      <th>price</th>\n",
       "      <th>time</th>\n",
       "      <th>distance</th>\n",
       "      <th>agency</th>\n",
       "      <th>date</th>\n",
       "      <th>From_Encoded</th>\n",
       "      <th>to_Encoded</th>\n",
       "    </tr>\n",
       "  </thead>\n",
       "  <tbody>\n",
       "    <tr>\n",
       "      <th>0</th>\n",
       "      <td>Recife (PE)</td>\n",
       "      <td>Florianopolis (SC)</td>\n",
       "      <td>firstClass</td>\n",
       "      <td>1434.38</td>\n",
       "      <td>1.76</td>\n",
       "      <td>676.53</td>\n",
       "      <td>FlyingDrops</td>\n",
       "      <td>09/26/2019</td>\n",
       "      <td>5</td>\n",
       "      <td>3</td>\n",
       "    </tr>\n",
       "    <tr>\n",
       "      <th>1</th>\n",
       "      <td>Florianopolis (SC)</td>\n",
       "      <td>Recife (PE)</td>\n",
       "      <td>firstClass</td>\n",
       "      <td>1292.29</td>\n",
       "      <td>1.76</td>\n",
       "      <td>676.53</td>\n",
       "      <td>FlyingDrops</td>\n",
       "      <td>09/30/2019</td>\n",
       "      <td>3</td>\n",
       "      <td>5</td>\n",
       "    </tr>\n",
       "    <tr>\n",
       "      <th>2</th>\n",
       "      <td>Brasilia (DF)</td>\n",
       "      <td>Florianopolis (SC)</td>\n",
       "      <td>firstClass</td>\n",
       "      <td>1487.52</td>\n",
       "      <td>1.66</td>\n",
       "      <td>637.56</td>\n",
       "      <td>CloudFy</td>\n",
       "      <td>10/03/2019</td>\n",
       "      <td>1</td>\n",
       "      <td>3</td>\n",
       "    </tr>\n",
       "    <tr>\n",
       "      <th>3</th>\n",
       "      <td>Florianopolis (SC)</td>\n",
       "      <td>Brasilia (DF)</td>\n",
       "      <td>firstClass</td>\n",
       "      <td>1127.36</td>\n",
       "      <td>1.66</td>\n",
       "      <td>637.56</td>\n",
       "      <td>CloudFy</td>\n",
       "      <td>10/04/2019</td>\n",
       "      <td>3</td>\n",
       "      <td>1</td>\n",
       "    </tr>\n",
       "    <tr>\n",
       "      <th>4</th>\n",
       "      <td>Aracaju (SE)</td>\n",
       "      <td>Salvador (BH)</td>\n",
       "      <td>firstClass</td>\n",
       "      <td>1684.05</td>\n",
       "      <td>2.16</td>\n",
       "      <td>830.86</td>\n",
       "      <td>CloudFy</td>\n",
       "      <td>10/10/2019</td>\n",
       "      <td>0</td>\n",
       "      <td>7</td>\n",
       "    </tr>\n",
       "  </tbody>\n",
       "</table>\n",
       "</div>"
      ],
      "text/plain": [
       "                 from                  to  flightType    price  time  \\\n",
       "0         Recife (PE)  Florianopolis (SC)  firstClass  1434.38  1.76   \n",
       "1  Florianopolis (SC)         Recife (PE)  firstClass  1292.29  1.76   \n",
       "2       Brasilia (DF)  Florianopolis (SC)  firstClass  1487.52  1.66   \n",
       "3  Florianopolis (SC)       Brasilia (DF)  firstClass  1127.36  1.66   \n",
       "4        Aracaju (SE)       Salvador (BH)  firstClass  1684.05  2.16   \n",
       "\n",
       "   distance       agency        date  From_Encoded  to_Encoded  \n",
       "0    676.53  FlyingDrops  09/26/2019             5           3  \n",
       "1    676.53  FlyingDrops  09/30/2019             3           5  \n",
       "2    637.56      CloudFy  10/03/2019             1           3  \n",
       "3    637.56      CloudFy  10/04/2019             3           1  \n",
       "4    830.86      CloudFy  10/10/2019             0           7  "
      ]
     },
     "execution_count": 12,
     "metadata": {},
     "output_type": "execute_result"
    }
   ],
   "source": [
    "df['to_Encoded'] = le.transform(df['to'])\n",
    "df.head()"
   ]
  },
  {
   "cell_type": "markdown",
   "id": "3d7ba04e",
   "metadata": {},
   "source": [
    "Encoding variables "
   ]
  },
  {
   "cell_type": "code",
   "execution_count": 13,
   "id": "a2ecba12",
   "metadata": {},
   "outputs": [],
   "source": [
    "enc = OrdinalEncoder()\n",
    "enc.fit(df[[\"flightType\",\"agency\"]])\n",
    "df[[\"flightType\",\"agency\"]] = enc.transform(df[[\"flightType\",\"agency\"]])"
   ]
  },
  {
   "cell_type": "markdown",
   "id": "fc2f07da",
   "metadata": {},
   "source": [
    "### Descriptive Statistics"
   ]
  },
  {
   "cell_type": "code",
   "execution_count": 14,
   "id": "ae396652",
   "metadata": {
    "scrolled": true
   },
   "outputs": [
    {
     "data": {
      "text/html": [
       "<div>\n",
       "<style scoped>\n",
       "    .dataframe tbody tr th:only-of-type {\n",
       "        vertical-align: middle;\n",
       "    }\n",
       "\n",
       "    .dataframe tbody tr th {\n",
       "        vertical-align: top;\n",
       "    }\n",
       "\n",
       "    .dataframe thead th {\n",
       "        text-align: right;\n",
       "    }\n",
       "</style>\n",
       "<table border=\"1\" class=\"dataframe\">\n",
       "  <thead>\n",
       "    <tr style=\"text-align: right;\">\n",
       "      <th></th>\n",
       "      <th>flightType</th>\n",
       "      <th>price</th>\n",
       "      <th>time</th>\n",
       "      <th>distance</th>\n",
       "      <th>agency</th>\n",
       "      <th>From_Encoded</th>\n",
       "      <th>to_Encoded</th>\n",
       "    </tr>\n",
       "  </thead>\n",
       "  <tbody>\n",
       "    <tr>\n",
       "      <th>count</th>\n",
       "      <td>271888.000000</td>\n",
       "      <td>271888.00000</td>\n",
       "      <td>271888.000000</td>\n",
       "      <td>271888.000000</td>\n",
       "      <td>271888.000000</td>\n",
       "      <td>271888.000000</td>\n",
       "      <td>271888.000000</td>\n",
       "    </tr>\n",
       "    <tr>\n",
       "      <th>mean</th>\n",
       "      <td>1.001979</td>\n",
       "      <td>957.37503</td>\n",
       "      <td>1.421147</td>\n",
       "      <td>546.955535</td>\n",
       "      <td>1.001376</td>\n",
       "      <td>3.418422</td>\n",
       "      <td>3.418422</td>\n",
       "    </tr>\n",
       "    <tr>\n",
       "      <th>std</th>\n",
       "      <td>0.756184</td>\n",
       "      <td>362.31189</td>\n",
       "      <td>0.542541</td>\n",
       "      <td>208.851288</td>\n",
       "      <td>0.925986</td>\n",
       "      <td>2.430872</td>\n",
       "      <td>2.430872</td>\n",
       "    </tr>\n",
       "    <tr>\n",
       "      <th>min</th>\n",
       "      <td>0.000000</td>\n",
       "      <td>301.51000</td>\n",
       "      <td>0.440000</td>\n",
       "      <td>168.220000</td>\n",
       "      <td>0.000000</td>\n",
       "      <td>0.000000</td>\n",
       "      <td>0.000000</td>\n",
       "    </tr>\n",
       "    <tr>\n",
       "      <th>25%</th>\n",
       "      <td>0.000000</td>\n",
       "      <td>672.66000</td>\n",
       "      <td>1.040000</td>\n",
       "      <td>401.660000</td>\n",
       "      <td>0.000000</td>\n",
       "      <td>1.000000</td>\n",
       "      <td>1.000000</td>\n",
       "    </tr>\n",
       "    <tr>\n",
       "      <th>50%</th>\n",
       "      <td>1.000000</td>\n",
       "      <td>904.00000</td>\n",
       "      <td>1.460000</td>\n",
       "      <td>562.140000</td>\n",
       "      <td>1.000000</td>\n",
       "      <td>3.000000</td>\n",
       "      <td>3.000000</td>\n",
       "    </tr>\n",
       "    <tr>\n",
       "      <th>75%</th>\n",
       "      <td>2.000000</td>\n",
       "      <td>1222.24000</td>\n",
       "      <td>1.760000</td>\n",
       "      <td>676.530000</td>\n",
       "      <td>2.000000</td>\n",
       "      <td>5.000000</td>\n",
       "      <td>5.000000</td>\n",
       "    </tr>\n",
       "    <tr>\n",
       "      <th>max</th>\n",
       "      <td>2.000000</td>\n",
       "      <td>1754.17000</td>\n",
       "      <td>2.440000</td>\n",
       "      <td>937.770000</td>\n",
       "      <td>2.000000</td>\n",
       "      <td>8.000000</td>\n",
       "      <td>8.000000</td>\n",
       "    </tr>\n",
       "  </tbody>\n",
       "</table>\n",
       "</div>"
      ],
      "text/plain": [
       "          flightType         price           time       distance  \\\n",
       "count  271888.000000  271888.00000  271888.000000  271888.000000   \n",
       "mean        1.001979     957.37503       1.421147     546.955535   \n",
       "std         0.756184     362.31189       0.542541     208.851288   \n",
       "min         0.000000     301.51000       0.440000     168.220000   \n",
       "25%         0.000000     672.66000       1.040000     401.660000   \n",
       "50%         1.000000     904.00000       1.460000     562.140000   \n",
       "75%         2.000000    1222.24000       1.760000     676.530000   \n",
       "max         2.000000    1754.17000       2.440000     937.770000   \n",
       "\n",
       "              agency   From_Encoded     to_Encoded  \n",
       "count  271888.000000  271888.000000  271888.000000  \n",
       "mean        1.001376       3.418422       3.418422  \n",
       "std         0.925986       2.430872       2.430872  \n",
       "min         0.000000       0.000000       0.000000  \n",
       "25%         0.000000       1.000000       1.000000  \n",
       "50%         1.000000       3.000000       3.000000  \n",
       "75%         2.000000       5.000000       5.000000  \n",
       "max         2.000000       8.000000       8.000000  "
      ]
     },
     "execution_count": 14,
     "metadata": {},
     "output_type": "execute_result"
    }
   ],
   "source": [
    "#obtaining the distribution of variables, including mean, median, min, max, and the different quartiles:\n",
    "df.describe()"
   ]
  },
  {
   "cell_type": "code",
   "execution_count": 15,
   "id": "1c7d4814",
   "metadata": {},
   "outputs": [
    {
     "data": {
      "text/html": [
       "<div>\n",
       "<style scoped>\n",
       "    .dataframe tbody tr th:only-of-type {\n",
       "        vertical-align: middle;\n",
       "    }\n",
       "\n",
       "    .dataframe tbody tr th {\n",
       "        vertical-align: top;\n",
       "    }\n",
       "\n",
       "    .dataframe thead th {\n",
       "        text-align: right;\n",
       "    }\n",
       "</style>\n",
       "<table border=\"1\" class=\"dataframe\">\n",
       "  <thead>\n",
       "    <tr style=\"text-align: right;\">\n",
       "      <th></th>\n",
       "      <th>from</th>\n",
       "      <th>to</th>\n",
       "      <th>date</th>\n",
       "    </tr>\n",
       "  </thead>\n",
       "  <tbody>\n",
       "    <tr>\n",
       "      <th>count</th>\n",
       "      <td>271888</td>\n",
       "      <td>271888</td>\n",
       "      <td>271888</td>\n",
       "    </tr>\n",
       "    <tr>\n",
       "      <th>unique</th>\n",
       "      <td>9</td>\n",
       "      <td>9</td>\n",
       "      <td>999</td>\n",
       "    </tr>\n",
       "    <tr>\n",
       "      <th>top</th>\n",
       "      <td>Florianopolis (SC)</td>\n",
       "      <td>Florianopolis (SC)</td>\n",
       "      <td>09/26/2019</td>\n",
       "    </tr>\n",
       "    <tr>\n",
       "      <th>freq</th>\n",
       "      <td>57317</td>\n",
       "      <td>57317</td>\n",
       "      <td>1335</td>\n",
       "    </tr>\n",
       "  </tbody>\n",
       "</table>\n",
       "</div>"
      ],
      "text/plain": [
       "                      from                  to        date\n",
       "count               271888              271888      271888\n",
       "unique                   9                   9         999\n",
       "top     Florianopolis (SC)  Florianopolis (SC)  09/26/2019\n",
       "freq                 57317               57317        1335"
      ]
     },
     "execution_count": 15,
     "metadata": {},
     "output_type": "execute_result"
    }
   ],
   "source": [
    "# including object variables\n",
    "df.describe(include=['object'])"
   ]
  },
  {
   "cell_type": "code",
   "execution_count": 16,
   "id": "e6c80b6c",
   "metadata": {},
   "outputs": [
    {
     "data": {
      "text/plain": [
       "from            0\n",
       "to              0\n",
       "flightType      0\n",
       "price           0\n",
       "time            0\n",
       "distance        0\n",
       "agency          0\n",
       "date            0\n",
       "From_Encoded    0\n",
       "to_Encoded      0\n",
       "dtype: int64"
      ]
     },
     "execution_count": 16,
     "metadata": {},
     "output_type": "execute_result"
    }
   ],
   "source": [
    "#Checking for the null values \n",
    "df.isnull().sum()"
   ]
  },
  {
   "cell_type": "markdown",
   "id": "6bc791e6",
   "metadata": {},
   "source": [
    "No Missing values in the dataset"
   ]
  },
  {
   "cell_type": "markdown",
   "id": "28e2839e",
   "metadata": {},
   "source": [
    "### Central tendency measures"
   ]
  },
  {
   "cell_type": "code",
   "execution_count": 17,
   "id": "62324bf2",
   "metadata": {},
   "outputs": [
    {
     "data": {
      "text/plain": [
       "price    957.37503\n",
       "dtype: float64"
      ]
     },
     "execution_count": 17,
     "metadata": {},
     "output_type": "execute_result"
    }
   ],
   "source": [
    "#calculating mean, median and mode of the variable price\n",
    "df_price = pd.read_csv(\"flights.csv\",usecols=['price'])\n",
    "df_price.mean()"
   ]
  },
  {
   "cell_type": "code",
   "execution_count": 18,
   "id": "f7413a12",
   "metadata": {},
   "outputs": [
    {
     "data": {
      "text/plain": [
       "price    904.0\n",
       "dtype: float64"
      ]
     },
     "execution_count": 18,
     "metadata": {},
     "output_type": "execute_result"
    }
   ],
   "source": [
    "df_price.median()"
   ]
  },
  {
   "cell_type": "code",
   "execution_count": 19,
   "id": "170c546f",
   "metadata": {},
   "outputs": [
    {
     "data": {
      "text/html": [
       "<div>\n",
       "<style scoped>\n",
       "    .dataframe tbody tr th:only-of-type {\n",
       "        vertical-align: middle;\n",
       "    }\n",
       "\n",
       "    .dataframe tbody tr th {\n",
       "        vertical-align: top;\n",
       "    }\n",
       "\n",
       "    .dataframe thead th {\n",
       "        text-align: right;\n",
       "    }\n",
       "</style>\n",
       "<table border=\"1\" class=\"dataframe\">\n",
       "  <thead>\n",
       "    <tr style=\"text-align: right;\">\n",
       "      <th></th>\n",
       "      <th>price</th>\n",
       "    </tr>\n",
       "  </thead>\n",
       "  <tbody>\n",
       "    <tr>\n",
       "      <th>0</th>\n",
       "      <td>1132.81</td>\n",
       "    </tr>\n",
       "    <tr>\n",
       "      <th>1</th>\n",
       "      <td>1248.70</td>\n",
       "    </tr>\n",
       "    <tr>\n",
       "      <th>2</th>\n",
       "      <td>1499.93</td>\n",
       "    </tr>\n",
       "    <tr>\n",
       "      <th>3</th>\n",
       "      <td>1574.28</td>\n",
       "    </tr>\n",
       "  </tbody>\n",
       "</table>\n",
       "</div>"
      ],
      "text/plain": [
       "     price\n",
       "0  1132.81\n",
       "1  1248.70\n",
       "2  1499.93\n",
       "3  1574.28"
      ]
     },
     "execution_count": 19,
     "metadata": {},
     "output_type": "execute_result"
    }
   ],
   "source": [
    "df_price.mode()"
   ]
  },
  {
   "cell_type": "code",
   "execution_count": 20,
   "id": "78ee7232",
   "metadata": {},
   "outputs": [
    {
     "data": {
      "text/plain": [
       "<AxesSubplot:xlabel='price', ylabel='Density'>"
      ]
     },
     "execution_count": 20,
     "metadata": {},
     "output_type": "execute_result"
    },
    {
     "data": {
      "image/png": "[encoded data removed]",
      "text/plain": [
       "<Figure size 432x288 with 1 Axes>"
      ]
     },
     "metadata": {
      "needs_background": "light"
     },
     "output_type": "display_data"
    }
   ],
   "source": [
    "#plotting a histogram to visualize the distribution of the variable 'price'.\n",
    "sns.distplot(df['price'])"
   ]
  },
  {
   "cell_type": "code",
   "execution_count": 21,
   "id": "ba49260b",
   "metadata": {},
   "outputs": [
    {
     "data": {
      "text/plain": [
       "1.0    116418\n",
       "2.0     78004\n",
       "0.0     77466\n",
       "Name: flightType, dtype: int64"
      ]
     },
     "execution_count": 21,
     "metadata": {},
     "output_type": "execute_result"
    }
   ],
   "source": [
    "#calculating the mode of the FlyghtType\n",
    "df['flightType'].value_counts()"
   ]
  },
  {
   "cell_type": "code",
   "execution_count": 22,
   "id": "f6347ac7",
   "metadata": {},
   "outputs": [
    {
     "data": {
      "text/plain": [
       "0         1.0\n",
       "1         1.0\n",
       "2         1.0\n",
       "3         1.0\n",
       "4         1.0\n",
       "         ... \n",
       "271883    1.0\n",
       "271884    0.0\n",
       "271885    0.0\n",
       "271886    0.0\n",
       "271887    0.0\n",
       "Name: flightType, Length: 271888, dtype: float64"
      ]
     },
     "execution_count": 22,
     "metadata": {},
     "output_type": "execute_result"
    }
   ],
   "source": [
    "df_type = df['flightType']\n",
    "df_type"
   ]
  },
  {
   "cell_type": "code",
   "execution_count": 23,
   "id": "5f77d526",
   "metadata": {},
   "outputs": [
    {
     "data": {
      "text/plain": [
       "<AxesSubplot:>"
      ]
     },
     "execution_count": 23,
     "metadata": {},
     "output_type": "execute_result"
    },
    {
     "data": {
      "image/png": "[encoded data removed]",
      "text/plain": [
       "<Figure size 432x288 with 1 Axes>"
      ]
     },
     "metadata": {
      "needs_background": "light"
     },
     "output_type": "display_data"
    }
   ],
   "source": [
    "#plotting a bar chart to visualize the frequency of 'flightType'\n",
    "df['flightType'].value_counts().plot(kind='bar')"
   ]
  },
  {
   "cell_type": "markdown",
   "id": "cb1cf2c2",
   "metadata": {},
   "source": [
    "### Mesures of dispersion"
   ]
  },
  {
   "cell_type": "code",
   "execution_count": 24,
   "id": "6395f98e",
   "metadata": {},
   "outputs": [
    {
     "name": "stdout",
     "output_type": "stream",
     "text": [
      "1452.66\n"
     ]
    }
   ],
   "source": [
    "#calculating the range of variable price:\n",
    "range = (1754.17000 - 301.51000)\n",
    "print(range)"
   ]
  },
  {
   "cell_type": "code",
   "execution_count": 25,
   "id": "f0ade3a5",
   "metadata": {},
   "outputs": [
    {
     "data": {
      "text/plain": [
       "131269.9056039013"
      ]
     },
     "execution_count": 25,
     "metadata": {},
     "output_type": "execute_result"
    }
   ],
   "source": [
    "#calculating the variance of price: \n",
    "df[\"price\"].var()"
   ]
  },
  {
   "cell_type": "code",
   "execution_count": 26,
   "id": "21bbe3f5",
   "metadata": {},
   "outputs": [
    {
     "name": "stdout",
     "output_type": "stream",
     "text": [
      "362.3118899565695\n"
     ]
    }
   ],
   "source": [
    "standard_deviation = df['price'].std()\n",
    "print(standard_deviation)"
   ]
  },
  {
   "cell_type": "code",
   "execution_count": 27,
   "id": "beb1be02",
   "metadata": {},
   "outputs": [
    {
     "data": {
      "text/plain": [
       "Index(['from', 'to', 'flightType', 'price', 'time', 'distance', 'agency',\n",
       "       'date', 'From_Encoded', 'to_Encoded'],\n",
       "      dtype='object')"
      ]
     },
     "execution_count": 27,
     "metadata": {},
     "output_type": "execute_result"
    }
   ],
   "source": [
    "df.columns"
   ]
  },
  {
   "cell_type": "code",
   "execution_count": 28,
   "id": "93d77b3e",
   "metadata": {},
   "outputs": [],
   "source": [
    "def boxp(b,c,col,ax):                                            # Creating function to plot boxplots\n",
    "    ax=ax[b][c]                                                  # Ax where the graph will be plotted\n",
    "    sns.boxplot(x=col, data=df, ax=ax, color= \"teal\")            # Boxplot plot according to column\n",
    "    ax.set_xlabel('')                                            # Defining x-label\n",
    "    ax.set_ylabel('')                                            # Defining y-label\n",
    "    ax.set_title(col, fontweight=\"bold\")                         # Setting title to each plot based on column\n",
    "    plt.tight_layout()                                           # Organise all the plots"
   ]
  },
  {
   "cell_type": "code",
   "execution_count": 29,
   "id": "324be461",
   "metadata": {},
   "outputs": [
    {
     "data": {
      "image/png": "[encoded data removed]",
      "text/plain": [
       "<Figure size 1152x864 with 6 Axes>"
      ]
     },
     "metadata": {
      "needs_background": "light"
     },
     "output_type": "display_data"
    }
   ],
   "source": [
    "fig, ax = plt.subplots(3,2, figsize=(16,12))                   # Stablishing size of the figure and how many axes\n",
    "fig.suptitle('BoxPlots \\n', fontsize=28, fontweight='bold')    # Plot a general title\n",
    "\n",
    "# Plotting each column in a ax\n",
    "\n",
    "boxp(0,0,'From_Encoded',ax)\n",
    "boxp(0,1,'to_Encoded',ax)\n",
    "boxp(1,0,'price',ax)\n",
    "boxp(1,1,'time',ax)\n",
    "boxp(2,0,'distance',ax)\n"
   ]
  },
  {
   "cell_type": "code",
   "execution_count": 30,
   "id": "6f152f82",
   "metadata": {},
   "outputs": [
    {
     "data": {
      "text/plain": [
       "0.3135775686612531"
      ]
     },
     "execution_count": 30,
     "metadata": {},
     "output_type": "execute_result"
    }
   ],
   "source": [
    "#calculating the skewness\n",
    "df[\"price\"].skew()"
   ]
  },
  {
   "cell_type": "code",
   "execution_count": 31,
   "id": "2548127d",
   "metadata": {},
   "outputs": [
    {
     "name": "stdout",
     "output_type": "stream",
     "text": [
      "769.55\n"
     ]
    }
   ],
   "source": [
    "#calculating the range of variable distance:\n",
    "range = (937.770000 - 168.220000)\n",
    "print(range)"
   ]
  },
  {
   "cell_type": "code",
   "execution_count": 32,
   "id": "cf6623af",
   "metadata": {},
   "outputs": [
    {
     "data": {
      "text/plain": [
       "43618.86055070666"
      ]
     },
     "execution_count": 32,
     "metadata": {},
     "output_type": "execute_result"
    }
   ],
   "source": [
    "#calculating the variance of distance: \n",
    "df[\"distance\"].var()"
   ]
  },
  {
   "cell_type": "code",
   "execution_count": 33,
   "id": "bb27a8d1",
   "metadata": {},
   "outputs": [
    {
     "name": "stdout",
     "output_type": "stream",
     "text": [
      "208.8512881231683\n"
     ]
    }
   ],
   "source": [
    "#calculating the standard deviation of distance: \n",
    "standard_deviation = df['distance'].std()\n",
    "print(standard_deviation)"
   ]
  },
  {
   "cell_type": "code",
   "execution_count": 34,
   "id": "5443743a",
   "metadata": {},
   "outputs": [
    {
     "data": {
      "text/plain": [
       "<AxesSubplot:xlabel='distance'>"
      ]
     },
     "execution_count": 34,
     "metadata": {},
     "output_type": "execute_result"
    },
    {
     "data": {
      "image/png": "[encoded data removed]",
      "text/plain": [
       "<Figure size 432x288 with 1 Axes>"
      ]
     },
     "metadata": {
      "needs_background": "light"
     },
     "output_type": "display_data"
    }
   ],
   "source": [
    "sns.boxplot(x=df['distance'], color = 'teal') "
   ]
  },
  {
   "cell_type": "code",
   "execution_count": 35,
   "id": "b3721886",
   "metadata": {},
   "outputs": [
    {
     "name": "stdout",
     "output_type": "stream",
     "text": [
      "672.66\n"
     ]
    }
   ],
   "source": [
    "Q1 = df[\"price\"].quantile(0.25)\n",
    "print(Q1)"
   ]
  },
  {
   "cell_type": "code",
   "execution_count": 36,
   "id": "5c77d645",
   "metadata": {},
   "outputs": [
    {
     "name": "stdout",
     "output_type": "stream",
     "text": [
      "904.0\n"
     ]
    }
   ],
   "source": [
    "Q2 = df[\"price\"].quantile(0.5)\n",
    "print(Q2)"
   ]
  },
  {
   "cell_type": "code",
   "execution_count": 37,
   "id": "3108eb52",
   "metadata": {},
   "outputs": [
    {
     "name": "stdout",
     "output_type": "stream",
     "text": [
      "1222.24\n"
     ]
    }
   ],
   "source": [
    "Q3 = df[\"price\"].quantile(0.75)\n",
    "print(Q3)"
   ]
  },
  {
   "cell_type": "code",
   "execution_count": 38,
   "id": "75b4d5dd",
   "metadata": {},
   "outputs": [
    {
     "name": "stdout",
     "output_type": "stream",
     "text": [
      "549.58\n"
     ]
    }
   ],
   "source": [
    "Q1 = df['price'].quantile(0.25)\n",
    "Q3 = df['price'].quantile(0.75)\n",
    "IQR = Q3-Q1\n",
    "print(IQR) "
   ]
  },
  {
   "cell_type": "code",
   "execution_count": 39,
   "id": "a91426b7",
   "metadata": {},
   "outputs": [
    {
     "data": {
      "text/plain": [
       "count    271888.00000\n",
       "mean        957.37503\n",
       "std         362.31189\n",
       "min         301.51000\n",
       "25%         672.66000\n",
       "50%         904.00000\n",
       "75%        1222.24000\n",
       "max        1754.17000\n",
       "Name: price, dtype: float64"
      ]
     },
     "execution_count": 39,
     "metadata": {},
     "output_type": "execute_result"
    }
   ],
   "source": [
    "df[\"price\"].describe()"
   ]
  },
  {
   "cell_type": "code",
   "execution_count": 40,
   "id": "0116a76b",
   "metadata": {},
   "outputs": [
    {
     "data": {
      "text/plain": [
       "<AxesSubplot:xlabel='distance', ylabel='price'>"
      ]
     },
     "execution_count": 40,
     "metadata": {},
     "output_type": "execute_result"
    },
    {
     "data": {
      "image/png": "[encoded data removed]",
      "text/plain": [
       "<Figure size 432x288 with 1 Axes>"
      ]
     },
     "metadata": {
      "needs_background": "light"
     },
     "output_type": "display_data"
    }
   ],
   "source": [
    "sns.scatterplot(data=df, x=\"distance\", y=\"price\", color = 'teal')"
   ]
  },
  {
   "cell_type": "code",
   "execution_count": 41,
   "id": "f0060c95",
   "metadata": {},
   "outputs": [
    {
     "data": {
      "text/plain": [
       "<seaborn.axisgrid.PairGrid at 0x7fdcd1a808e0>"
      ]
     },
     "execution_count": 41,
     "metadata": {},
     "output_type": "execute_result"
    },
    {
     "data": {
      "image/png": "[encoded data removed]",
      "text/plain": [
       "<Figure size 1260x1260 with 56 Axes>"
      ]
     },
     "metadata": {
      "needs_background": "light"
     },
     "output_type": "display_data"
    }
   ],
   "source": [
    "colors = [\"teal\"]\n",
    "sns.pairplot(df, palette=colors)"
   ]
  },
  {
   "cell_type": "code",
   "execution_count": 42,
   "id": "3ebdc4a3",
   "metadata": {},
   "outputs": [
    {
     "data": {
      "text/plain": [
       "from            False\n",
       "to              False\n",
       "flightType      False\n",
       "price           False\n",
       "time            False\n",
       "distance        False\n",
       "agency          False\n",
       "date            False\n",
       "From_Encoded    False\n",
       "to_Encoded      False\n",
       "dtype: bool"
      ]
     },
     "execution_count": 42,
     "metadata": {},
     "output_type": "execute_result"
    }
   ],
   "source": [
    "# checking null values\n",
    "df.isnull().any()"
   ]
  },
  {
   "cell_type": "code",
   "execution_count": 43,
   "id": "f25ce6e5",
   "metadata": {},
   "outputs": [
    {
     "name": "stdout",
     "output_type": "stream",
     "text": [
      "from            0\n",
      "to              0\n",
      "flightType      0\n",
      "price           0\n",
      "time            0\n",
      "distance        0\n",
      "agency          0\n",
      "date            0\n",
      "From_Encoded    0\n",
      "to_Encoded      0\n",
      "dtype: int64\n"
     ]
    }
   ],
   "source": [
    "print(df.isnull().sum()) "
   ]
  },
  {
   "cell_type": "code",
   "execution_count": 44,
   "id": "289df522",
   "metadata": {},
   "outputs": [
    {
     "data": {
      "text/plain": [
       "distance    546.955535\n",
       "dtype: float64"
      ]
     },
     "execution_count": 44,
     "metadata": {},
     "output_type": "execute_result"
    }
   ],
   "source": [
    "#calculating mean, median and mode of the variable distance\n",
    "df_distance = pd.read_csv(\"flights.csv\",usecols=['distance'])\n",
    "df_distance.mean()"
   ]
  },
  {
   "cell_type": "code",
   "execution_count": 45,
   "id": "24bb0686",
   "metadata": {},
   "outputs": [
    {
     "data": {
      "text/plain": [
       "distance    562.14\n",
       "dtype: float64"
      ]
     },
     "execution_count": 45,
     "metadata": {},
     "output_type": "execute_result"
    }
   ],
   "source": [
    "df_distance.median()"
   ]
  },
  {
   "cell_type": "code",
   "execution_count": 46,
   "id": "43111eb1",
   "metadata": {},
   "outputs": [
    {
     "data": {
      "text/html": [
       "<div>\n",
       "<style scoped>\n",
       "    .dataframe tbody tr th:only-of-type {\n",
       "        vertical-align: middle;\n",
       "    }\n",
       "\n",
       "    .dataframe tbody tr th {\n",
       "        vertical-align: top;\n",
       "    }\n",
       "\n",
       "    .dataframe thead th {\n",
       "        text-align: right;\n",
       "    }\n",
       "</style>\n",
       "<table border=\"1\" class=\"dataframe\">\n",
       "  <thead>\n",
       "    <tr style=\"text-align: right;\">\n",
       "      <th></th>\n",
       "      <th>distance</th>\n",
       "    </tr>\n",
       "  </thead>\n",
       "  <tbody>\n",
       "    <tr>\n",
       "      <th>0</th>\n",
       "      <td>808.85</td>\n",
       "    </tr>\n",
       "  </tbody>\n",
       "</table>\n",
       "</div>"
      ],
      "text/plain": [
       "   distance\n",
       "0    808.85"
      ]
     },
     "execution_count": 46,
     "metadata": {},
     "output_type": "execute_result"
    }
   ],
   "source": [
    "df_distance.mode()"
   ]
  },
  {
   "cell_type": "code",
   "execution_count": 47,
   "id": "2e409a6b",
   "metadata": {},
   "outputs": [],
   "source": [
    "df_column_from = df['from']"
   ]
  },
  {
   "cell_type": "code",
   "execution_count": 48,
   "id": "440a0a30",
   "metadata": {},
   "outputs": [
    {
     "data": {
      "text/plain": [
       "Florianopolis (SC)     57317\n",
       "Aracaju (SE)           37224\n",
       "Campo Grande (MS)      34748\n",
       "Brasilia (DF)          30779\n",
       "Recife (PE)            30480\n",
       "Natal (RN)             23796\n",
       "Sao Paulo (SP)         23625\n",
       "Salvador (BH)          17104\n",
       "Rio de Janeiro (RJ)    16815\n",
       "Name: from, dtype: int64"
      ]
     },
     "execution_count": 48,
     "metadata": {},
     "output_type": "execute_result"
    }
   ],
   "source": [
    "df['from'].value_counts()"
   ]
  },
  {
   "cell_type": "code",
   "execution_count": 49,
   "id": "ac162471",
   "metadata": {
    "scrolled": false
   },
   "outputs": [
    {
     "data": {
      "text/plain": [
       "<AxesSubplot:>"
      ]
     },
     "execution_count": 49,
     "metadata": {},
     "output_type": "execute_result"
    },
    {
     "data": {
      "image/png": "[encoded data removed]",
      "text/plain": [
       "<Figure size 432x288 with 1 Axes>"
      ]
     },
     "metadata": {
      "needs_background": "light"
     },
     "output_type": "display_data"
    }
   ],
   "source": [
    "df_column_from.value_counts().plot(kind='bar', color= 'teal')"
   ]
  },
  {
   "cell_type": "code",
   "execution_count": 50,
   "id": "e48c04d0",
   "metadata": {},
   "outputs": [
    {
     "data": {
      "text/plain": [
       "-0.1839441974642272"
      ]
     },
     "execution_count": 50,
     "metadata": {},
     "output_type": "execute_result"
    }
   ],
   "source": [
    "#calculating the skewness\n",
    "df[\"distance\"].skew()"
   ]
  },
  {
   "cell_type": "markdown",
   "id": "01d0d910",
   "metadata": {},
   "source": [
    "### Treating the variable Date"
   ]
  },
  {
   "cell_type": "code",
   "execution_count": 51,
   "id": "aa635d4e",
   "metadata": {},
   "outputs": [
    {
     "data": {
      "text/html": [
       "<div>\n",
       "<style scoped>\n",
       "    .dataframe tbody tr th:only-of-type {\n",
       "        vertical-align: middle;\n",
       "    }\n",
       "\n",
       "    .dataframe tbody tr th {\n",
       "        vertical-align: top;\n",
       "    }\n",
       "\n",
       "    .dataframe thead th {\n",
       "        text-align: right;\n",
       "    }\n",
       "</style>\n",
       "<table border=\"1\" class=\"dataframe\">\n",
       "  <thead>\n",
       "    <tr style=\"text-align: right;\">\n",
       "      <th></th>\n",
       "      <th>from</th>\n",
       "      <th>to</th>\n",
       "      <th>flightType</th>\n",
       "      <th>price</th>\n",
       "      <th>time</th>\n",
       "      <th>distance</th>\n",
       "      <th>agency</th>\n",
       "      <th>date</th>\n",
       "      <th>From_Encoded</th>\n",
       "      <th>to_Encoded</th>\n",
       "    </tr>\n",
       "  </thead>\n",
       "  <tbody>\n",
       "    <tr>\n",
       "      <th>0</th>\n",
       "      <td>Recife (PE)</td>\n",
       "      <td>Florianopolis (SC)</td>\n",
       "      <td>1.0</td>\n",
       "      <td>1434.38</td>\n",
       "      <td>1.76</td>\n",
       "      <td>676.53</td>\n",
       "      <td>1.0</td>\n",
       "      <td>2019-09-26</td>\n",
       "      <td>5</td>\n",
       "      <td>3</td>\n",
       "    </tr>\n",
       "    <tr>\n",
       "      <th>1</th>\n",
       "      <td>Florianopolis (SC)</td>\n",
       "      <td>Recife (PE)</td>\n",
       "      <td>1.0</td>\n",
       "      <td>1292.29</td>\n",
       "      <td>1.76</td>\n",
       "      <td>676.53</td>\n",
       "      <td>1.0</td>\n",
       "      <td>2019-09-30</td>\n",
       "      <td>3</td>\n",
       "      <td>5</td>\n",
       "    </tr>\n",
       "    <tr>\n",
       "      <th>2</th>\n",
       "      <td>Brasilia (DF)</td>\n",
       "      <td>Florianopolis (SC)</td>\n",
       "      <td>1.0</td>\n",
       "      <td>1487.52</td>\n",
       "      <td>1.66</td>\n",
       "      <td>637.56</td>\n",
       "      <td>0.0</td>\n",
       "      <td>2019-10-03</td>\n",
       "      <td>1</td>\n",
       "      <td>3</td>\n",
       "    </tr>\n",
       "    <tr>\n",
       "      <th>3</th>\n",
       "      <td>Florianopolis (SC)</td>\n",
       "      <td>Brasilia (DF)</td>\n",
       "      <td>1.0</td>\n",
       "      <td>1127.36</td>\n",
       "      <td>1.66</td>\n",
       "      <td>637.56</td>\n",
       "      <td>0.0</td>\n",
       "      <td>2019-10-04</td>\n",
       "      <td>3</td>\n",
       "      <td>1</td>\n",
       "    </tr>\n",
       "    <tr>\n",
       "      <th>4</th>\n",
       "      <td>Aracaju (SE)</td>\n",
       "      <td>Salvador (BH)</td>\n",
       "      <td>1.0</td>\n",
       "      <td>1684.05</td>\n",
       "      <td>2.16</td>\n",
       "      <td>830.86</td>\n",
       "      <td>0.0</td>\n",
       "      <td>2019-10-10</td>\n",
       "      <td>0</td>\n",
       "      <td>7</td>\n",
       "    </tr>\n",
       "  </tbody>\n",
       "</table>\n",
       "</div>"
      ],
      "text/plain": [
       "                 from                  to  flightType    price  time  \\\n",
       "0         Recife (PE)  Florianopolis (SC)         1.0  1434.38  1.76   \n",
       "1  Florianopolis (SC)         Recife (PE)         1.0  1292.29  1.76   \n",
       "2       Brasilia (DF)  Florianopolis (SC)         1.0  1487.52  1.66   \n",
       "3  Florianopolis (SC)       Brasilia (DF)         1.0  1127.36  1.66   \n",
       "4        Aracaju (SE)       Salvador (BH)         1.0  1684.05  2.16   \n",
       "\n",
       "   distance  agency       date  From_Encoded  to_Encoded  \n",
       "0    676.53     1.0 2019-09-26             5           3  \n",
       "1    676.53     1.0 2019-09-30             3           5  \n",
       "2    637.56     0.0 2019-10-03             1           3  \n",
       "3    637.56     0.0 2019-10-04             3           1  \n",
       "4    830.86     0.0 2019-10-10             0           7  "
      ]
     },
     "execution_count": 51,
     "metadata": {},
     "output_type": "execute_result"
    }
   ],
   "source": [
    "df['date'] = pd.to_datetime(df['date'])\n",
    "df.head()"
   ]
  },
  {
   "cell_type": "markdown",
   "id": "afb7e113",
   "metadata": {},
   "source": [
    "### Selecting the sample from the data set"
   ]
  },
  {
   "cell_type": "code",
   "execution_count": 52,
   "id": "76c77b9a",
   "metadata": {},
   "outputs": [
    {
     "name": "stdout",
     "output_type": "stream",
     "text": [
      "                      from                  to  flightType    price  time  \\\n",
      "2            Brasilia (DF)  Florianopolis (SC)         1.0  1487.52  1.66   \n",
      "3       Florianopolis (SC)       Brasilia (DF)         1.0  1127.36  1.66   \n",
      "4             Aracaju (SE)       Salvador (BH)         1.0  1684.05  2.16   \n",
      "5            Salvador (BH)        Aracaju (SE)         1.0  1531.92  2.16   \n",
      "6             Aracaju (SE)   Campo Grande (MS)         0.0   743.54  1.69   \n",
      "...                    ...                 ...         ...      ...   ...   \n",
      "271806  Florianopolis (SC)       Salvador (BH)         0.0   898.67  2.44   \n",
      "271807       Salvador (BH)  Florianopolis (SC)         0.0   943.15  2.44   \n",
      "271808  Florianopolis (SC)       Salvador (BH)         0.0   898.67  2.44   \n",
      "271809       Salvador (BH)  Florianopolis (SC)         0.0   943.15  2.44   \n",
      "271810  Florianopolis (SC)      Sao Paulo (SP)         0.0   427.00  1.46   \n",
      "\n",
      "        distance  agency       date  From_Encoded  to_Encoded  \n",
      "2         637.56     0.0 2019-10-03             1           3  \n",
      "3         637.56     0.0 2019-10-04             3           1  \n",
      "4         830.86     0.0 2019-10-10             0           7  \n",
      "5         830.86     0.0 2019-10-12             7           0  \n",
      "6         650.10     2.0 2019-10-17             0           2  \n",
      "...          ...     ...        ...           ...         ...  \n",
      "271806    937.77     0.0 2019-10-17             3           7  \n",
      "271807    937.77     0.0 2019-10-19             7           3  \n",
      "271808    937.77     0.0 2019-10-24             3           7  \n",
      "271809    937.77     0.0 2019-10-28             7           3  \n",
      "271810    562.14     2.0 2019-10-31             3           8  \n",
      "\n",
      "[11762 rows x 10 columns]\n"
     ]
    }
   ],
   "source": [
    "filtered_df =df.loc[df[\"date\"].between('2019-10-01', '2019-10-31')]\n",
    "print(filtered_df)"
   ]
  },
  {
   "cell_type": "markdown",
   "id": "1db91028",
   "metadata": {},
   "source": [
    "# CA2"
   ]
  },
  {
   "cell_type": "markdown",
   "id": "1acd7657",
   "metadata": {},
   "source": [
    "## First Section"
   ]
  },
  {
   "cell_type": "markdown",
   "id": "53647c99",
   "metadata": {},
   "source": [
    "### Hypoteses Test"
   ]
  },
  {
   "attachments": {
    "image-2.png": {
     "image/png": "[encoded data removed]"
    }
   },
   "cell_type": "markdown",
   "id": "7bf7d43d",
   "metadata": {},
   "source": [
    "Acording to ANAC (The National Civil Aviation Agency) the average price of airline tickets in Brazil in October of 2019 was 543.41. On calculating the avarage of the price on the same period, of 30 observations from the data set, the average turns out to be 944.93.\n",
    "\n",
    "![image-2.png](attachment:image-2.png)"
   ]
  },
  {
   "cell_type": "code",
   "execution_count": 53,
   "id": "7ed5519a",
   "metadata": {},
   "outputs": [
    {
     "data": {
      "text/plain": [
       "187960     857.32\n",
       "192230     544.86\n",
       "156148     744.11\n",
       "81727     1087.18\n",
       "64651      638.63\n",
       "Name: price, dtype: float64"
      ]
     },
     "execution_count": 53,
     "metadata": {},
     "output_type": "execute_result"
    }
   ],
   "source": [
    "#taking a sample of 29 observations from the data set, on the period of October,2019:\n",
    "\n",
    "october= (df['date'] > '2019-10-01') & (df['date'] <= '2019-10-31')\n",
    "filtered_df=df.loc[october]\n",
    "sample = filtered_df.sample(29,random_state=1)\n",
    "sample['price'].head()"
   ]
  },
  {
   "cell_type": "markdown",
   "id": "97e7f2c2",
   "metadata": {},
   "source": [
    "### T - test"
   ]
  },
  {
   "cell_type": "markdown",
   "id": "853e430a",
   "metadata": {},
   "source": [
    "First of all, we use t-test when the standard deviation of the population is unknown. (Lakin, 2011, pp.211) Since I do not have the standard deviation of the population, I will take a random sample of 29 observations from the data set to perform a t-test in this case, having the population mean represented by μ, the sample mean represented by x̄, and the standard deviation of sample represented by S."
   ]
  },
  {
   "cell_type": "code",
   "execution_count": 54,
   "id": "82a88bd9",
   "metadata": {},
   "outputs": [
    {
     "name": "stdout",
     "output_type": "stream",
     "text": [
      "936.2068965517242\n"
     ]
    }
   ],
   "source": [
    "# mean of sample: \n",
    "x̄ = sample['price'].mean()\n",
    "print(x̄)"
   ]
  },
  {
   "cell_type": "code",
   "execution_count": 55,
   "id": "ad5e2551",
   "metadata": {},
   "outputs": [
    {
     "name": "stdout",
     "output_type": "stream",
     "text": [
      "337.2438783951825\n"
     ]
    }
   ],
   "source": [
    "#std of sample: \n",
    "S = sample['price'].std()\n",
    "print(S)"
   ]
  },
  {
   "cell_type": "code",
   "execution_count": 56,
   "id": "a18161c7",
   "metadata": {},
   "outputs": [
    {
     "name": "stdout",
     "output_type": "stream",
     "text": [
      "392.7968965517242\n"
     ]
    }
   ],
   "source": [
    "dif_means = x̄ - 543.41\n",
    "print(dif_means)"
   ]
  },
  {
   "cell_type": "code",
   "execution_count": 57,
   "id": "d71c16ef",
   "metadata": {},
   "outputs": [
    {
     "name": "stdout",
     "output_type": "stream",
     "text": [
      "mean=936.21 stdv=331.38\n"
     ]
    }
   ],
   "source": [
    "#stabilhing the values: \n",
    "\n",
    "sd = S/math.sqrt(29)\n",
    "alpha =0.05\n",
    "null_mean =543.41\n",
    "data = sample['price']\n",
    "\n",
    "# print mean and sd\n",
    "print('mean=%.2f stdv=%.2f' % (np.mean(data), np.std(data)))"
   ]
  },
  {
   "cell_type": "markdown",
   "id": "3c274968",
   "metadata": {},
   "source": [
    "Now, I will perform the test. In this function, I passed data, in value parameter. I passed mean value in the null hypothesis, in alternative hypothesis I checked whether the mean of the distribution of the sample is different than the population mean using parameter 'two-sided'. (docs.scipy.org, n.d.)"
   ]
  },
  {
   "cell_type": "code",
   "execution_count": 58,
   "id": "688adfc6",
   "metadata": {},
   "outputs": [
    {
     "name": "stdout",
     "output_type": "stream",
     "text": [
      "\u001b[1mt-test Score:\u001b[0m6.2722\n",
      "\u001b[1mp-value:\u001b[0m0.0000008825\n"
     ]
    }
   ],
   "source": [
    "#Now, I will perform the test:\n",
    "ttest_Score, p_value= stats.ttest_1samp(data, null_mean, alternative='two-sided') # stablishing 'two-sided'\n",
    "\n",
    "\n",
    "#Printting the results:\n",
    "print('\\033[1m'+'t-test Score:'+'\\033[0m'+'%.4f' % (np.array(ttest_Score)))\n",
    "print('\\033[1m'+'p-value:'+'\\033[0m'+'%.10f'% (np.array(p_value)))"
   ]
  },
  {
   "cell_type": "markdown",
   "id": "ed440768",
   "metadata": {},
   "source": [
    "If the p-value we obteined is less than the selected alpha level, 0.05 in this case, I will reject the null hypothesis. If the p-value is greather than the alpha value, I will fail to reject the null hypothesis. It's important to note that the null hypothesis is never accepted; we can only reject or fail to reject it. "
   ]
  },
  {
   "cell_type": "code",
   "execution_count": 59,
   "id": "23f8f26b",
   "metadata": {},
   "outputs": [
    {
     "name": "stdout",
     "output_type": "stream",
     "text": [
      "\u001b[1mReject Null Hypothesis\u001b[0m\n"
     ]
    }
   ],
   "source": [
    "# We compare the p-value with alpha, if it is greater than alpha then we do not reject null hypothesis \n",
    "# else we reject it.\n",
    "  \n",
    "if(p_value <  alpha):\n",
    "  print('\\033[1m'+\"Reject Null Hypothesis\"+'\\033[0m')\n",
    "else:\n",
    "  print(+'\\033[0m'+\"Fail to Reject NUll Hypothesis\"+'\\033[0m')"
   ]
  },
  {
   "cell_type": "markdown",
   "id": "da70777b",
   "metadata": {},
   "source": [
    "## Second Section"
   ]
  },
  {
   "cell_type": "markdown",
   "id": "1b6b781c",
   "metadata": {},
   "source": [
    "### Correlation Analysis"
   ]
  },
  {
   "cell_type": "markdown",
   "id": "5be256c0",
   "metadata": {},
   "source": [
    "**What is correlation?**\n",
    "\n",
    "According to Haslwanter (2016, p.184) The coefficient correlation tell us if two variables are related or not and if there is a relationship between them. Which means, if one variable changes, the other also changes. \n",
    "Correlation can occurs either when one variable depends on the value of another variable or two variables could depend on a third variable. \n",
    "A correlation can be positive, when both variables move in the same direction or negative, when one variable’s values moves up, the values of another variables moves down. (Brownlee, 2019)"
   ]
  },
  {
   "cell_type": "code",
   "execution_count": 60,
   "id": "3cb8bbbb",
   "metadata": {},
   "outputs": [
    {
     "data": {
      "image/png": "[encoded data removed]",
      "text/plain": [
       "<Figure size 576x432 with 2 Axes>"
      ]
     },
     "metadata": {
      "needs_background": "light"
     },
     "output_type": "display_data"
    }
   ],
   "source": [
    "fig, ax = plt.subplots(figsize=(8,6))            # Stablishing size of figure and how many axes \n",
    "\n",
    "corr = df.corr()                              # Creating correlation matrix and storing in corr\n",
    "mask = np.triu(corr)                           # Creating a variable to display only the lower triangle of the plot\n",
    "palette=plt.get_cmap('mako').reversed()        # Choosing palette and reversing it\n",
    "sns.heatmap(corr, annot=True, vmin=-1, vmax=1, mask=mask, ax=ax, cmap=palette) # Plotting heatmap\n",
    "\n",
    "ax.set_title('Heatmap - Correlation \\n', fontsize=18, fontweight='bold');  # Setting title"
   ]
  },
  {
   "cell_type": "markdown",
   "id": "ba083b2e",
   "metadata": {},
   "source": [
    "The heatmap above shows that there are a few variables with moderate correlation, others with very low correlation and others with almost no correlation. This information will be used to perform Linear Regression in two variables in the next topic."
   ]
  },
  {
   "cell_type": "markdown",
   "id": "3e9613ba",
   "metadata": {},
   "source": [
    "### Linear Regression for Statistics¶"
   ]
  },
  {
   "cell_type": "markdown",
   "id": "6bdc203f",
   "metadata": {},
   "source": [
    "As informed previously, the heatmap showed how strong is the correlation among variables. The variables Price and distance were chosen. Applying the correlation function, the result is 0.64, which means there is a moderate correlation between these two variables. It is clear, by looking at the scatterplot below, that there is a pattern between the variables."
   ]
  },
  {
   "cell_type": "code",
   "execution_count": 61,
   "id": "af6c8354",
   "metadata": {},
   "outputs": [
    {
     "data": {
      "text/html": [
       "<div>\n",
       "<style scoped>\n",
       "    .dataframe tbody tr th:only-of-type {\n",
       "        vertical-align: middle;\n",
       "    }\n",
       "\n",
       "    .dataframe tbody tr th {\n",
       "        vertical-align: top;\n",
       "    }\n",
       "\n",
       "    .dataframe thead th {\n",
       "        text-align: right;\n",
       "    }\n",
       "</style>\n",
       "<table border=\"1\" class=\"dataframe\">\n",
       "  <thead>\n",
       "    <tr style=\"text-align: right;\">\n",
       "      <th></th>\n",
       "      <th>price</th>\n",
       "      <th>distance</th>\n",
       "    </tr>\n",
       "  </thead>\n",
       "  <tbody>\n",
       "    <tr>\n",
       "      <th>price</th>\n",
       "      <td>1.000000</td>\n",
       "      <td>0.641915</td>\n",
       "    </tr>\n",
       "    <tr>\n",
       "      <th>distance</th>\n",
       "      <td>0.641915</td>\n",
       "      <td>1.000000</td>\n",
       "    </tr>\n",
       "  </tbody>\n",
       "</table>\n",
       "</div>"
      ],
      "text/plain": [
       "             price  distance\n",
       "price     1.000000  0.641915\n",
       "distance  0.641915  1.000000"
      ]
     },
     "execution_count": 61,
     "metadata": {},
     "output_type": "execute_result"
    }
   ],
   "source": [
    "# Correlation matrix for variables chosen\n",
    "df[['price', 'distance']].corr(method='pearson')"
   ]
  },
  {
   "cell_type": "code",
   "execution_count": 62,
   "id": "cfd3c790",
   "metadata": {},
   "outputs": [
    {
     "data": {
      "text/plain": [
       "Text(0.5, 1.0, 'Correlation between Price and Distance')"
      ]
     },
     "execution_count": 62,
     "metadata": {},
     "output_type": "execute_result"
    },
    {
     "data": {
      "image/png": "[encoded data removed]",
      "text/plain": [
       "<Figure size 432x288 with 1 Axes>"
      ]
     },
     "metadata": {
      "needs_background": "light"
     },
     "output_type": "display_data"
    }
   ],
   "source": [
    "# Use variables chosen to plot scatterplot\n",
    "\n",
    "sns.scatterplot(data=df, x=\"price\", y=\"distance\", color= 'teal');\n",
    "plt.title(\"Correlation between Price and Distance\", fontsize = 16)"
   ]
  },
  {
   "cell_type": "markdown",
   "id": "d7cad707",
   "metadata": {},
   "source": [
    "To understand this pattern, it was performed a n.polyfit with degree one to get the coeficients of the linear equation that reflects the correlation between Price and distance."
   ]
  },
  {
   "cell_type": "code",
   "execution_count": 63,
   "id": "5415eeea",
   "metadata": {},
   "outputs": [
    {
     "data": {
      "text/plain": [
       "array([  0.37002606, 192.70182343])"
      ]
     },
     "execution_count": 63,
     "metadata": {},
     "output_type": "execute_result"
    }
   ],
   "source": [
    "flight_fit = np.polyfit(df.price, df.distance, 1)\n",
    "\n",
    "flight_fit"
   ]
  },
  {
   "cell_type": "markdown",
   "id": "d7ef6dff",
   "metadata": {},
   "source": [
    "After performing that, the coefficients calculated were a=0.37 and b= 192.70. Using these values, it is possible to create the Linear Regression Model: \n",
    "\n",
    "y = 0.37x + 192.70.\n",
    "\n",
    "price: x\n",
    "\n",
    "distance: y"
   ]
  },
  {
   "cell_type": "code",
   "execution_count": 64,
   "id": "6652c348",
   "metadata": {},
   "outputs": [
    {
     "data": {
      "image/png": "[encoded data removed]",
      "text/plain": [
       "<Figure size 432x288 with 1 Axes>"
      ]
     },
     "metadata": {
      "needs_background": "light"
     },
     "output_type": "display_data"
    }
   ],
   "source": [
    "# Plotting the scatter plot\n",
    "df.plot(kind='scatter', x='price', y='distance', color='teal', alpha=0.5)\n",
    "\n",
    "# Plotting Regression Line\n",
    "plt.plot(df.price, flight_fit[0] * df.price + flight_fit[1], color='red', linewidth=3)\n",
    "\n",
    "# Plotting Regression Equation\n",
    "plt.text(25, 0,'y={:.2f}+{:.2f}*x'.format(flight_fit[1],  flight_fit[0]), color='red', fontsize=14)\n",
    "\n",
    "# legend, title and labels.\n",
    "plt.legend(labels=['flight Regresion Line', 'price', 'distance'])\n",
    "plt.title('Relationship between time and distance \\n', fontsize=14, fontweight='bold')\n",
    "plt.xlabel('price', fontsize=12)\n",
    "plt.ylabel('Distance', fontsize=12);"
   ]
  },
  {
   "cell_type": "markdown",
   "id": "cdf2f463",
   "metadata": {},
   "source": [
    "The method used above gave us the coefficients and the Linear Model. It is possible to perform prediction using it, but there is a library on python to do that. It will be performed below the Linear Regression using Scikit Learn.\n",
    "\n",
    "The main objective of a model is to make predictions using new information applied to the model. To make prediction in a large dataset it is necessary to perform a test train split, so a part of the dataset can be used to compare values predicted with actual values. This way it is possible to get the accuracy of the model.\n"
   ]
  },
  {
   "cell_type": "markdown",
   "id": "9d26b6ad",
   "metadata": {},
   "source": [
    "### Modeling"
   ]
  },
  {
   "cell_type": "markdown",
   "id": "77dca4e2",
   "metadata": {},
   "source": [
    "#### Linear Regression"
   ]
  },
  {
   "cell_type": "code",
   "execution_count": 73,
   "id": "84ae473d",
   "metadata": {},
   "outputs": [
    {
     "name": "stdout",
     "output_type": "stream",
     "text": [
      "\u001b[1mb: \u001b[0m [193.29684217]\n",
      "\u001b[1ma: \u001b[0m [[0.36945618]]\n"
     ]
    }
   ],
   "source": [
    "# Defining variables X and y\n",
    "X = df['price']\n",
    "y = df['distance']\n",
    "\n",
    "# Performing Train Test Split\n",
    "X_train, X_test, y_train, y_test = train_test_split(X, y, test_size=0.20, random_state=1234)\n",
    "\n",
    "# While performing I got an error telling me to reshape the variables, so I reshaped all of them\n",
    "X_train= X_train.values.reshape(-1, 1)\n",
    "y_train= y_train.values.reshape(-1, 1)\n",
    "X_test = X_test.values.reshape(-1, 1)\n",
    "y_test = y_test.values.reshape(-1, 1)\n",
    "\n",
    "# Checking the coefficients\n",
    "print('\\033[1m'+'b: '+'\\033[0m', lr_reg.intercept_)\n",
    "print('\\033[1m'+'a: '+'\\033[0m', lr_reg.coef_)"
   ]
  },
  {
   "cell_type": "code",
   "execution_count": 74,
   "id": "be63af73",
   "metadata": {},
   "outputs": [
    {
     "name": "stdout",
     "output_type": "stream",
     "text": [
      "\u001b[1mCoefficient of Determination: \u001b[0m0.4156\n"
     ]
    }
   ],
   "source": [
    "lr_pred = lr_reg.predict(X_test)                    # Using Linear Regression to predict values for X_test\n",
    "R_square = r2_score(y_test, lr_pred)                 # Compare actual values to predicted values\n",
    "print('\\033[1m'+'Coefficient of Determination: '+'\\033[0m'+'{:.4f}'.format(R_square))"
   ]
  },
  {
   "cell_type": "markdown",
   "id": "66af49bf",
   "metadata": {},
   "source": [
    "Performing Linear Regression using Scikit Learn showed very similar values for the coefficients. The Coefficient of Determination is 0.4146 (41.46%), which means that 41.46% of Total Sum of Squares is mantained by using this predictive model."
   ]
  },
  {
   "cell_type": "markdown",
   "id": "877b2599",
   "metadata": {},
   "source": [
    "Multiple Linear Regression"
   ]
  },
  {
   "cell_type": "code",
   "execution_count": 67,
   "id": "ed3c9be1",
   "metadata": {},
   "outputs": [],
   "source": [
    "#df= df.drop(df[['date', 'from', 'to']], axis=1)\n",
    "#df.head()"
   ]
  },
  {
   "cell_type": "code",
   "execution_count": 68,
   "id": "fbc58549",
   "metadata": {},
   "outputs": [
    {
     "name": "stdout",
     "output_type": "stream",
     "text": [
      "<class 'pandas.core.frame.DataFrame'>\n",
      "RangeIndex: 271888 entries, 0 to 271887\n",
      "Data columns (total 10 columns):\n",
      " #   Column        Non-Null Count   Dtype         \n",
      "---  ------        --------------   -----         \n",
      " 0   from          271888 non-null  object        \n",
      " 1   to            271888 non-null  object        \n",
      " 2   flightType    271888 non-null  float64       \n",
      " 3   price         271888 non-null  float64       \n",
      " 4   time          271888 non-null  float64       \n",
      " 5   distance      271888 non-null  float64       \n",
      " 6   agency        271888 non-null  float64       \n",
      " 7   date          271888 non-null  datetime64[ns]\n",
      " 8   From_Encoded  271888 non-null  int64         \n",
      " 9   to_Encoded    271888 non-null  int64         \n",
      "dtypes: datetime64[ns](1), float64(5), int64(2), object(2)\n",
      "memory usage: 20.7+ MB\n"
     ]
    }
   ],
   "source": [
    "df.info()"
   ]
  },
  {
   "cell_type": "code",
   "execution_count": 69,
   "id": "e0c547e7",
   "metadata": {},
   "outputs": [],
   "source": [
    "X = df[['time', 'distance']].values.reshape(y.shape[0], -1)\n",
    "y = df['price'].values.reshape(y.shape[0], -1)"
   ]
  },
  {
   "cell_type": "code",
   "execution_count": 70,
   "id": "e7065040",
   "metadata": {},
   "outputs": [],
   "source": [
    "# Performing Train Test Split\n",
    "X_train, X_test, y_train, y_test = train_test_split(X, y, test_size=0.30, random_state=42)"
   ]
  },
  {
   "cell_type": "code",
   "execution_count": 71,
   "id": "12a34df9",
   "metadata": {},
   "outputs": [
    {
     "name": "stdout",
     "output_type": "stream",
     "text": [
      "Training set score :41.27%\n",
      "Test set score :41.25%\n",
      "Cross Validation :38.50%\n"
     ]
    }
   ],
   "source": [
    "# Applying the model\n",
    "\n",
    "ln_reg = LinearRegression()\n",
    "ln_reg.fit(X_train, y_train)\n",
    "ln_pred = ln_reg.predict(X_test)\n",
    "\n",
    "# Evaluation of the model\n",
    "\n",
    "ln_train_accuracy = ln_reg.score(X_train, y_train)*100\n",
    "ln_test_accuracy = ln_reg.score(X_test, y_test)*100\n",
    "\n",
    "# Calculating Cross Validation\n",
    "ln_reg_cross_validation = cross_val_score(ln_reg, X, y, cv=3).mean()*100\n",
    "\n",
    "# Displaying the scores\n",
    "print(\"Training set score :\"+\"{:.2f}%\".format(ln_train_accuracy))\n",
    "print(\"Test set score :\"+\"{:.2f}%\".format(ln_test_accuracy))\n",
    "print(\"Cross Validation :\"+\"{:.2f}%\".format(ln_reg_cross_validation))"
   ]
  },
  {
   "cell_type": "code",
   "execution_count": null,
   "id": "1d019c09",
   "metadata": {},
   "outputs": [],
   "source": []
  }
 ],
 "metadata": {
  "kernelspec": {
   "display_name": "Python 3 (ipykernel)",
   "language": "python",
   "name": "python3"
  },
  "language_info": {
   "codemirror_mode": {
    "name": "ipython",
    "version": 3
   },
   "file_extension": ".py",
   "mimetype": "text/x-python",
   "name": "python",
   "nbconvert_exporter": "python",
   "pygments_lexer": "ipython3",
   "version": "3.9.7"
  },
  "toc": {
   "base_numbering": 1,
   "nav_menu": {},
   "number_sections": false,
   "sideBar": true,
   "skip_h1_title": false,
   "title_cell": "Table of Contents",
   "title_sidebar": "Contents",
   "toc_cell": false,
   "toc_position": {
    "height": "calc(100% - 180px)",
    "left": "10px",
    "top": "150px",
    "width": "165px"
   },
   "toc_section_display": true,
   "toc_window_display": true
  }
 },
 "nbformat": 4,
 "nbformat_minor": 5
}
